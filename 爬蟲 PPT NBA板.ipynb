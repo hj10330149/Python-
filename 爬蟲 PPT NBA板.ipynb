{
 "cells": [
  {
   "cell_type": "markdown",
   "id": "235f57db",
   "metadata": {},
   "source": [
    "### 爬蟲 (PTT NBA板)\n",
    "https://www.youtube.com/watch?v=1PHp1prsxIM&t=1655s"
   ]
  },
  {
   "cell_type": "code",
   "execution_count": 28,
   "id": "bd248f8e",
   "metadata": {},
   "outputs": [],
   "source": [
    "import os\n",
    "import requests\n",
    "from bs4 import BeautifulSoup\n",
    "import pandas as pd"
   ]
  },
  {
   "cell_type": "markdown",
   "id": "63b4005a",
   "metadata": {},
   "source": [
    "### 更新python工作目錄 (僅在這個notebook生效)"
   ]
  },
  {
   "cell_type": "code",
   "execution_count": 4,
   "id": "d8ea8e7d",
   "metadata": {},
   "outputs": [
    {
     "name": "stdout",
     "output_type": "stream",
     "text": [
      "舊的工作目錄: C:\\Users\\WEIYU\n",
      "新的工作目錄: C:/Users/WEIYU/Desktop/Coding/Python/python practice\n"
     ]
    }
   ],
   "source": [
    "current_directory = os.getcwd()\n",
    "print(\"舊的工作目錄:\", current_directory)\n",
    "\n",
    "# 要更改为的新目录路径\n",
    "new_directory = 'C:/Users/WEIYU/Desktop/Coding/Python/python practice'\n",
    "\n",
    "# 使用os.chdir更改当前工作目录\n",
    "os.chdir(new_directory)\n",
    "print(\"新的工作目錄:\", new_directory)"
   ]
  },
  {
   "cell_type": "markdown",
   "id": "f0027262",
   "metadata": {},
   "source": [
    "### 將網站資訊爬取下來後，接著使用beautifulsoup來分析這個網頁，並從中得到我們需要的數據，最後儲存成excel檔案"
   ]
  },
  {
   "cell_type": "code",
   "execution_count": 34,
   "id": "e9d135bc",
   "metadata": {
    "scrolled": true
   },
   "outputs": [
    {
     "name": "stdout",
     "output_type": "stream",
     "text": [
      "成功將資料儲存成excel檔案\n"
     ]
    }
   ],
   "source": [
    "#url=網址\n",
    "url = 'https://www.ptt.cc/bbs/NBA/index.html'\n",
    "\n",
    "#常見的爬蟲技巧: 建立一個dictionary headers來記錄 User-Agent，用於模仿使用者對伺服器進行要求\n",
    "headers = {'User-Agent':'Mozilla/5.0 (Windows NT 10.0; Win64; x64) AppleWebKit/537.36 (KHTML, like Gecko) Chrome/117.0.0.0 Safari/537.36'}\n",
    "\n",
    "#用requests.get向伺服器取的資料，並儲存在result裡面\n",
    "result = requests.get(url, headers=headers)\n",
    "\n",
    "#用BeautifulSoup來分析爬取下來的資料，要先將result變成text(result是一個物件)\n",
    "soup = BeautifulSoup(result.text)\n",
    "\n",
    "#先去網頁的原始碼中找尋文章列的html是甚麼樣子，在這邊是div class='r-ent'，再用find_all將所有符合條件的文章抓出來\n",
    "article = soup.find_all('div', class_='r-ent')  #print(article[0])\n",
    "\n",
    "data_list=[] #為了將資料儲存下來而開的list\n",
    "\n",
    "#在文章article中我們想要取得標題title、人氣popular、日期date\n",
    "for x in article: #每個x代表article中的一篇文章\n",
    "    \n",
    "    data={} #將資料儲存成一個字典\n",
    "    \n",
    "    #標題title\n",
    "    title = x.find('div', class_='title') #從每個文章中找到div class='title'，並儲存成title\n",
    "    if title and title.a: #如果title和 title.a存在的話才進入迴圈，title.a是html存放標題的地方(查看網頁原始碼可以得知)\n",
    "        title = title.a.text #將標題儲存成title\n",
    "    else:\n",
    "        title = \"NA\" #當網頁中某些文章被刪除，則article中會沒有title和title.a所以程式會出現error，在此避免這些問題\n",
    "    data[\"標題\"] = title #在data這個字典中新增 {Key:value}={標題:title}\n",
    "    \n",
    "    #人氣popular\n",
    "    populor = x.find('div', class_='nrec')\n",
    "    if populor and populor.span:\n",
    "        populor = populor.span.text\n",
    "    else:\n",
    "        populor = 'NA'\n",
    "    data[\"人氣\"] = populor #在data這個字典中新增 {Key:value}={人氣:populor}\n",
    "    \n",
    "    #日期date\n",
    "    date = x.find('div', class_='date')\n",
    "    if date:\n",
    "        date = date.text\n",
    "    else:\n",
    "        date = 'NA'\n",
    "    data[\"日期\"] = date #在data這個字典中新增 {Key:value}={日期:date\n",
    "    \n",
    "    #將字典data append進data_list裡面\n",
    "    data_list.append(data)\n",
    "    \n",
    "    #用f-string方法print出來\n",
    "    #print(f'日期: {date}, 人氣:{populor},  標題: {title}')\n",
    "\n",
    "#觀察data_list \n",
    "#print(data_list)\n",
    "\n",
    "#將資料儲存成excel檔案\n",
    "df = pd.DataFrame(data_list)\n",
    "df.to_excel('ppt_nba_data.xlsx', index=False, engine='openpyxl')\n",
    "print('成功將資料儲存成excel檔案')"
   ]
  }
 ],
 "metadata": {
  "kernelspec": {
   "display_name": "Python 3 (ipykernel)",
   "language": "python",
   "name": "python3"
  },
  "language_info": {
   "codemirror_mode": {
    "name": "ipython",
    "version": 3
   },
   "file_extension": ".py",
   "mimetype": "text/x-python",
   "name": "python",
   "nbconvert_exporter": "python",
   "pygments_lexer": "ipython3",
   "version": "3.11.5"
  }
 },
 "nbformat": 4,
 "nbformat_minor": 5
}
